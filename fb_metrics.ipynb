{
 "cells": [
  {
   "cell_type": "code",
   "execution_count": 30,
   "id": "1ded106a-c08a-47ac-a1ca-99f98be8deec",
   "metadata": {},
   "outputs": [],
   "source": [
    "import pandas as pd\n",
    "import numpy as np\n",
    "import matplotlib.pyplot as plt\n",
    "import seaborn as sns"
   ]
  },
  {
   "cell_type": "code",
   "execution_count": 31,
   "id": "1ab4edcb-0960-4fed-a6ca-523350e7fe89",
   "metadata": {},
   "outputs": [],
   "source": [
    "fb_df = pd.read_csv('data/dataset_Facebook.csv', sep=';')"
   ]
  },
  {
   "cell_type": "code",
   "execution_count": 32,
   "id": "0e5fe1a0",
   "metadata": {},
   "outputs": [],
   "source": [
    "# Shorten column names\n",
    "fb_df.rename(columns={'Lifetime Post Total Reach': 'LT Post Total Reach',\n",
    "                      'Lifetime Post Total Impressions': 'LT Post Total Imp',\n",
    "                      'Lifetime Engaged Users': 'LT Engd Users',\n",
    "                      'Lifetime Post Consumers': 'LT Post Consumers',\n",
    "                      'Lifetime Post Consumptions': 'LT Post Consump',\n",
    "                      'Lifetime Post Impressions by people who have liked your Page':\n",
    "                      'LT Post Imp + Liked Page',\n",
    "                      'Lifetime Post reach by people who like your Page':\n",
    "                      'LT Post Reach + Liked Page',\n",
    "                      'Lifetime People who have liked your Page and engaged with your post': 'LT People + Engd Post',\n",
    "                      'comment': 'Comment',\n",
    "                      'like': 'Like',\n",
    "                      'share': 'Share',\n",
    "                      'Total Interactions': 'Total Int'\n",
    "                     }, inplace=True)"
   ]
  },
  {
   "cell_type": "code",
   "execution_count": 33,
   "id": "2744410a-1052-41eb-8b1f-299a9a08f3fc",
   "metadata": {},
   "outputs": [
    {
     "data": {
      "text/html": [
       "<div>\n",
       "<style scoped>\n",
       "    .dataframe tbody tr th:only-of-type {\n",
       "        vertical-align: middle;\n",
       "    }\n",
       "\n",
       "    .dataframe tbody tr th {\n",
       "        vertical-align: top;\n",
       "    }\n",
       "\n",
       "    .dataframe thead th {\n",
       "        text-align: right;\n",
       "    }\n",
       "</style>\n",
       "<table border=\"1\" class=\"dataframe\">\n",
       "  <thead>\n",
       "    <tr style=\"text-align: right;\">\n",
       "      <th></th>\n",
       "      <th>Page total likes</th>\n",
       "      <th>Type</th>\n",
       "      <th>Category</th>\n",
       "      <th>Post Month</th>\n",
       "      <th>Post Weekday</th>\n",
       "      <th>Post Hour</th>\n",
       "      <th>Paid</th>\n",
       "      <th>LT Post Total Reach</th>\n",
       "      <th>LT Post Total Imp</th>\n",
       "      <th>LT Engd Users</th>\n",
       "      <th>LT Post Consumers</th>\n",
       "      <th>LT Post Consump</th>\n",
       "      <th>LT Post Imp + Liked Page</th>\n",
       "      <th>LT Post Reach + Liked Page</th>\n",
       "      <th>LT People + Engd Post</th>\n",
       "      <th>Comment</th>\n",
       "      <th>Like</th>\n",
       "      <th>Share</th>\n",
       "      <th>Total Int</th>\n",
       "    </tr>\n",
       "  </thead>\n",
       "  <tbody>\n",
       "    <tr>\n",
       "      <th>0</th>\n",
       "      <td>139441</td>\n",
       "      <td>Photo</td>\n",
       "      <td>2</td>\n",
       "      <td>12</td>\n",
       "      <td>4</td>\n",
       "      <td>3</td>\n",
       "      <td>0.0</td>\n",
       "      <td>2752</td>\n",
       "      <td>5091</td>\n",
       "      <td>178</td>\n",
       "      <td>109</td>\n",
       "      <td>159</td>\n",
       "      <td>3078</td>\n",
       "      <td>1640</td>\n",
       "      <td>119</td>\n",
       "      <td>4</td>\n",
       "      <td>79.0</td>\n",
       "      <td>17.0</td>\n",
       "      <td>100</td>\n",
       "    </tr>\n",
       "    <tr>\n",
       "      <th>1</th>\n",
       "      <td>139441</td>\n",
       "      <td>Status</td>\n",
       "      <td>2</td>\n",
       "      <td>12</td>\n",
       "      <td>3</td>\n",
       "      <td>10</td>\n",
       "      <td>0.0</td>\n",
       "      <td>10460</td>\n",
       "      <td>19057</td>\n",
       "      <td>1457</td>\n",
       "      <td>1361</td>\n",
       "      <td>1674</td>\n",
       "      <td>11710</td>\n",
       "      <td>6112</td>\n",
       "      <td>1108</td>\n",
       "      <td>5</td>\n",
       "      <td>130.0</td>\n",
       "      <td>29.0</td>\n",
       "      <td>164</td>\n",
       "    </tr>\n",
       "    <tr>\n",
       "      <th>2</th>\n",
       "      <td>139441</td>\n",
       "      <td>Photo</td>\n",
       "      <td>3</td>\n",
       "      <td>12</td>\n",
       "      <td>3</td>\n",
       "      <td>3</td>\n",
       "      <td>0.0</td>\n",
       "      <td>2413</td>\n",
       "      <td>4373</td>\n",
       "      <td>177</td>\n",
       "      <td>113</td>\n",
       "      <td>154</td>\n",
       "      <td>2812</td>\n",
       "      <td>1503</td>\n",
       "      <td>132</td>\n",
       "      <td>0</td>\n",
       "      <td>66.0</td>\n",
       "      <td>14.0</td>\n",
       "      <td>80</td>\n",
       "    </tr>\n",
       "    <tr>\n",
       "      <th>3</th>\n",
       "      <td>139441</td>\n",
       "      <td>Photo</td>\n",
       "      <td>2</td>\n",
       "      <td>12</td>\n",
       "      <td>2</td>\n",
       "      <td>10</td>\n",
       "      <td>1.0</td>\n",
       "      <td>50128</td>\n",
       "      <td>87991</td>\n",
       "      <td>2211</td>\n",
       "      <td>790</td>\n",
       "      <td>1119</td>\n",
       "      <td>61027</td>\n",
       "      <td>32048</td>\n",
       "      <td>1386</td>\n",
       "      <td>58</td>\n",
       "      <td>1572.0</td>\n",
       "      <td>147.0</td>\n",
       "      <td>1777</td>\n",
       "    </tr>\n",
       "    <tr>\n",
       "      <th>4</th>\n",
       "      <td>139441</td>\n",
       "      <td>Photo</td>\n",
       "      <td>2</td>\n",
       "      <td>12</td>\n",
       "      <td>2</td>\n",
       "      <td>3</td>\n",
       "      <td>0.0</td>\n",
       "      <td>7244</td>\n",
       "      <td>13594</td>\n",
       "      <td>671</td>\n",
       "      <td>410</td>\n",
       "      <td>580</td>\n",
       "      <td>6228</td>\n",
       "      <td>3200</td>\n",
       "      <td>396</td>\n",
       "      <td>19</td>\n",
       "      <td>325.0</td>\n",
       "      <td>49.0</td>\n",
       "      <td>393</td>\n",
       "    </tr>\n",
       "  </tbody>\n",
       "</table>\n",
       "</div>"
      ],
      "text/plain": [
       "   Page total likes    Type  Category  Post Month  Post Weekday  Post Hour  \\\n",
       "0            139441   Photo         2          12             4          3   \n",
       "1            139441  Status         2          12             3         10   \n",
       "2            139441   Photo         3          12             3          3   \n",
       "3            139441   Photo         2          12             2         10   \n",
       "4            139441   Photo         2          12             2          3   \n",
       "\n",
       "   Paid  LT Post Total Reach  LT Post Total Imp  LT Engd Users  \\\n",
       "0   0.0                 2752               5091            178   \n",
       "1   0.0                10460              19057           1457   \n",
       "2   0.0                 2413               4373            177   \n",
       "3   1.0                50128              87991           2211   \n",
       "4   0.0                 7244              13594            671   \n",
       "\n",
       "   LT Post Consumers  LT Post Consump  LT Post Imp + Liked Page  \\\n",
       "0                109              159                      3078   \n",
       "1               1361             1674                     11710   \n",
       "2                113              154                      2812   \n",
       "3                790             1119                     61027   \n",
       "4                410              580                      6228   \n",
       "\n",
       "   LT Post Reach + Liked Page  LT People + Engd Post  Comment    Like  Share  \\\n",
       "0                        1640                    119        4    79.0   17.0   \n",
       "1                        6112                   1108        5   130.0   29.0   \n",
       "2                        1503                    132        0    66.0   14.0   \n",
       "3                       32048                   1386       58  1572.0  147.0   \n",
       "4                        3200                    396       19   325.0   49.0   \n",
       "\n",
       "   Total Int  \n",
       "0        100  \n",
       "1        164  \n",
       "2         80  \n",
       "3       1777  \n",
       "4        393  "
      ]
     },
     "execution_count": 33,
     "metadata": {},
     "output_type": "execute_result"
    }
   ],
   "source": [
    "fb_df.head()"
   ]
  },
  {
   "cell_type": "code",
   "execution_count": 34,
   "id": "14910e28",
   "metadata": {},
   "outputs": [
    {
     "data": {
      "text/html": [
       "<div>\n",
       "<style scoped>\n",
       "    .dataframe tbody tr th:only-of-type {\n",
       "        vertical-align: middle;\n",
       "    }\n",
       "\n",
       "    .dataframe tbody tr th {\n",
       "        vertical-align: top;\n",
       "    }\n",
       "\n",
       "    .dataframe thead th {\n",
       "        text-align: right;\n",
       "    }\n",
       "</style>\n",
       "<table border=\"1\" class=\"dataframe\">\n",
       "  <thead>\n",
       "    <tr style=\"text-align: right;\">\n",
       "      <th></th>\n",
       "      <th>Page total likes</th>\n",
       "      <th>Type</th>\n",
       "      <th>Category</th>\n",
       "      <th>Post Month</th>\n",
       "      <th>Post Weekday</th>\n",
       "      <th>Post Hour</th>\n",
       "      <th>Paid</th>\n",
       "      <th>LT Post Total Reach</th>\n",
       "      <th>LT Post Total Imp</th>\n",
       "      <th>LT Engd Users</th>\n",
       "      <th>LT Post Consumers</th>\n",
       "      <th>LT Post Consump</th>\n",
       "      <th>LT Post Imp + Liked Page</th>\n",
       "      <th>LT Post Reach + Liked Page</th>\n",
       "      <th>LT People + Engd Post</th>\n",
       "      <th>Comment</th>\n",
       "      <th>Like</th>\n",
       "      <th>Share</th>\n",
       "      <th>Total Int</th>\n",
       "    </tr>\n",
       "  </thead>\n",
       "  <tbody>\n",
       "    <tr>\n",
       "      <th>495</th>\n",
       "      <td>85093</td>\n",
       "      <td>Photo</td>\n",
       "      <td>3</td>\n",
       "      <td>1</td>\n",
       "      <td>7</td>\n",
       "      <td>2</td>\n",
       "      <td>0.0</td>\n",
       "      <td>4684</td>\n",
       "      <td>7536</td>\n",
       "      <td>733</td>\n",
       "      <td>708</td>\n",
       "      <td>985</td>\n",
       "      <td>4750</td>\n",
       "      <td>2876</td>\n",
       "      <td>392</td>\n",
       "      <td>5</td>\n",
       "      <td>53.0</td>\n",
       "      <td>26.0</td>\n",
       "      <td>84</td>\n",
       "    </tr>\n",
       "    <tr>\n",
       "      <th>496</th>\n",
       "      <td>81370</td>\n",
       "      <td>Photo</td>\n",
       "      <td>2</td>\n",
       "      <td>1</td>\n",
       "      <td>5</td>\n",
       "      <td>8</td>\n",
       "      <td>0.0</td>\n",
       "      <td>3480</td>\n",
       "      <td>6229</td>\n",
       "      <td>537</td>\n",
       "      <td>508</td>\n",
       "      <td>687</td>\n",
       "      <td>3961</td>\n",
       "      <td>2104</td>\n",
       "      <td>301</td>\n",
       "      <td>0</td>\n",
       "      <td>53.0</td>\n",
       "      <td>22.0</td>\n",
       "      <td>75</td>\n",
       "    </tr>\n",
       "    <tr>\n",
       "      <th>497</th>\n",
       "      <td>81370</td>\n",
       "      <td>Photo</td>\n",
       "      <td>1</td>\n",
       "      <td>1</td>\n",
       "      <td>5</td>\n",
       "      <td>2</td>\n",
       "      <td>0.0</td>\n",
       "      <td>3778</td>\n",
       "      <td>7216</td>\n",
       "      <td>625</td>\n",
       "      <td>572</td>\n",
       "      <td>795</td>\n",
       "      <td>4742</td>\n",
       "      <td>2388</td>\n",
       "      <td>363</td>\n",
       "      <td>4</td>\n",
       "      <td>93.0</td>\n",
       "      <td>18.0</td>\n",
       "      <td>115</td>\n",
       "    </tr>\n",
       "    <tr>\n",
       "      <th>498</th>\n",
       "      <td>81370</td>\n",
       "      <td>Photo</td>\n",
       "      <td>3</td>\n",
       "      <td>1</td>\n",
       "      <td>4</td>\n",
       "      <td>11</td>\n",
       "      <td>0.0</td>\n",
       "      <td>4156</td>\n",
       "      <td>7564</td>\n",
       "      <td>626</td>\n",
       "      <td>574</td>\n",
       "      <td>832</td>\n",
       "      <td>4534</td>\n",
       "      <td>2452</td>\n",
       "      <td>370</td>\n",
       "      <td>7</td>\n",
       "      <td>91.0</td>\n",
       "      <td>38.0</td>\n",
       "      <td>136</td>\n",
       "    </tr>\n",
       "    <tr>\n",
       "      <th>499</th>\n",
       "      <td>81370</td>\n",
       "      <td>Photo</td>\n",
       "      <td>2</td>\n",
       "      <td>1</td>\n",
       "      <td>4</td>\n",
       "      <td>4</td>\n",
       "      <td>NaN</td>\n",
       "      <td>4188</td>\n",
       "      <td>7292</td>\n",
       "      <td>564</td>\n",
       "      <td>524</td>\n",
       "      <td>743</td>\n",
       "      <td>3861</td>\n",
       "      <td>2200</td>\n",
       "      <td>316</td>\n",
       "      <td>0</td>\n",
       "      <td>91.0</td>\n",
       "      <td>28.0</td>\n",
       "      <td>119</td>\n",
       "    </tr>\n",
       "  </tbody>\n",
       "</table>\n",
       "</div>"
      ],
      "text/plain": [
       "     Page total likes   Type  Category  Post Month  Post Weekday  Post Hour  \\\n",
       "495             85093  Photo         3           1             7          2   \n",
       "496             81370  Photo         2           1             5          8   \n",
       "497             81370  Photo         1           1             5          2   \n",
       "498             81370  Photo         3           1             4         11   \n",
       "499             81370  Photo         2           1             4          4   \n",
       "\n",
       "     Paid  LT Post Total Reach  LT Post Total Imp  LT Engd Users  \\\n",
       "495   0.0                 4684               7536            733   \n",
       "496   0.0                 3480               6229            537   \n",
       "497   0.0                 3778               7216            625   \n",
       "498   0.0                 4156               7564            626   \n",
       "499   NaN                 4188               7292            564   \n",
       "\n",
       "     LT Post Consumers  LT Post Consump  LT Post Imp + Liked Page  \\\n",
       "495                708              985                      4750   \n",
       "496                508              687                      3961   \n",
       "497                572              795                      4742   \n",
       "498                574              832                      4534   \n",
       "499                524              743                      3861   \n",
       "\n",
       "     LT Post Reach + Liked Page  LT People + Engd Post  Comment  Like  Share  \\\n",
       "495                        2876                    392        5  53.0   26.0   \n",
       "496                        2104                    301        0  53.0   22.0   \n",
       "497                        2388                    363        4  93.0   18.0   \n",
       "498                        2452                    370        7  91.0   38.0   \n",
       "499                        2200                    316        0  91.0   28.0   \n",
       "\n",
       "     Total Int  \n",
       "495         84  \n",
       "496         75  \n",
       "497        115  \n",
       "498        136  \n",
       "499        119  "
      ]
     },
     "execution_count": 34,
     "metadata": {},
     "output_type": "execute_result"
    }
   ],
   "source": [
    "fb_df.tail()"
   ]
  },
  {
   "cell_type": "code",
   "execution_count": 35,
   "id": "9ecf54d9-4a9e-4781-b065-5f5957423529",
   "metadata": {},
   "outputs": [
    {
     "name": "stdout",
     "output_type": "stream",
     "text": [
      "<class 'pandas.core.frame.DataFrame'>\n",
      "RangeIndex: 500 entries, 0 to 499\n",
      "Data columns (total 19 columns):\n",
      " #   Column                      Non-Null Count  Dtype  \n",
      "---  ------                      --------------  -----  \n",
      " 0   Page total likes            500 non-null    int64  \n",
      " 1   Type                        500 non-null    object \n",
      " 2   Category                    500 non-null    int64  \n",
      " 3   Post Month                  500 non-null    int64  \n",
      " 4   Post Weekday                500 non-null    int64  \n",
      " 5   Post Hour                   500 non-null    int64  \n",
      " 6   Paid                        499 non-null    float64\n",
      " 7   LT Post Total Reach         500 non-null    int64  \n",
      " 8   LT Post Total Imp           500 non-null    int64  \n",
      " 9   LT Engd Users               500 non-null    int64  \n",
      " 10  LT Post Consumers           500 non-null    int64  \n",
      " 11  LT Post Consump             500 non-null    int64  \n",
      " 12  LT Post Imp + Liked Page    500 non-null    int64  \n",
      " 13  LT Post Reach + Liked Page  500 non-null    int64  \n",
      " 14  LT People + Engd Post       500 non-null    int64  \n",
      " 15  Comment                     500 non-null    int64  \n",
      " 16  Like                        499 non-null    float64\n",
      " 17  Share                       496 non-null    float64\n",
      " 18  Total Int                   500 non-null    int64  \n",
      "dtypes: float64(3), int64(15), object(1)\n",
      "memory usage: 74.3+ KB\n"
     ]
    }
   ],
   "source": [
    "fb_df.info()"
   ]
  },
  {
   "cell_type": "code",
   "execution_count": 36,
   "id": "18cd82c2",
   "metadata": {},
   "outputs": [
    {
     "data": {
      "text/plain": [
       "array(['Photo', 'Status', 'Link', 'Video'], dtype=object)"
      ]
     },
     "execution_count": 36,
     "metadata": {},
     "output_type": "execute_result"
    }
   ],
   "source": [
    "fb_df.Type.unique()"
   ]
  },
  {
   "cell_type": "code",
   "execution_count": 37,
   "id": "690814e2",
   "metadata": {},
   "outputs": [
    {
     "data": {
      "text/plain": [
       "Photo     426\n",
       "Status     45\n",
       "Link       22\n",
       "Video       7\n",
       "Name: Type, dtype: int64"
      ]
     },
     "execution_count": 37,
     "metadata": {},
     "output_type": "execute_result"
    }
   ],
   "source": [
    "fb_df.Type.value_counts()"
   ]
  },
  {
   "cell_type": "code",
   "execution_count": 38,
   "id": "aa73c764",
   "metadata": {},
   "outputs": [
    {
     "data": {
      "image/png": "[encoded data removed]",
      "text/plain": [
       "<Figure size 432x288 with 1 Axes>"
      ]
     },
     "metadata": {
      "needs_background": "light"
     },
     "output_type": "display_data"
    }
   ],
   "source": [
    "type_data = fb_df.Type.value_counts(sort=False)\n",
    "plt.bar(type_data.index, type_data.values)\n",
    "plt.tight_layout();"
   ]
  },
  {
   "cell_type": "code",
   "execution_count": 39,
   "id": "5fb51deb-b941-4faa-85be-ab6d91eb6662",
   "metadata": {},
   "outputs": [
    {
     "data": {
      "text/plain": [
       "array([2, 3, 1])"
      ]
     },
     "execution_count": 39,
     "metadata": {},
     "output_type": "execute_result"
    }
   ],
   "source": [
    "fb_df.Category.unique()"
   ]
  },
  {
   "cell_type": "code",
   "execution_count": 40,
   "id": "b1ead09b",
   "metadata": {},
   "outputs": [
    {
     "data": {
      "image/png": "[encoded data removed]",
      "text/plain": [
       "<Figure size 432x288 with 1 Axes>"
      ]
     },
     "metadata": {
      "needs_background": "light"
     },
     "output_type": "display_data"
    }
   ],
   "source": [
    "category_data = fb_df.Category.value_counts(sort=False)\n",
    "plt.bar(category_data.index, category_data.values)\n",
    "plt.xticks([1, 2, 3])\n",
    "plt.tight_layout();"
   ]
  },
  {
   "cell_type": "code",
   "execution_count": 41,
   "id": "769a4d71-18c5-4733-98de-fe67f5f7d4c6",
   "metadata": {},
   "outputs": [
    {
     "data": {
      "text/plain": [
       "array([ 0.,  1., nan])"
      ]
     },
     "execution_count": 41,
     "metadata": {},
     "output_type": "execute_result"
    }
   ],
   "source": [
    "fb_df.Paid.unique()"
   ]
  },
  {
   "cell_type": "code",
   "execution_count": 42,
   "id": "853e5d42",
   "metadata": {},
   "outputs": [
    {
     "data": {
      "image/png": "[encoded data removed]",
      "text/plain": [
       "<Figure size 432x288 with 1 Axes>"
      ]
     },
     "metadata": {
      "needs_background": "light"
     },
     "output_type": "display_data"
    }
   ],
   "source": [
    "paid_data = fb_df.Paid.value_counts(sort=False)\n",
    "plt.bar(paid_data.index, paid_data.values)\n",
    "plt.xticks(ticks=range(2), labels=['Not paid', 'Paid'], fontsize=13)\n",
    "plt.yticks(fontsize=13)\n",
    "plt.tight_layout();"
   ]
  },
  {
   "cell_type": "code",
   "execution_count": 43,
   "id": "03bda93d",
   "metadata": {},
   "outputs": [
    {
     "data": {
      "text/plain": [
       "(500, 1)"
      ]
     },
     "execution_count": 43,
     "metadata": {},
     "output_type": "execute_result"
    }
   ],
   "source": [
    "fb_df[['Paid']].shape"
   ]
  },
  {
   "cell_type": "code",
   "execution_count": 44,
   "id": "3c46669a",
   "metadata": {},
   "outputs": [
    {
     "name": "stdout",
     "output_type": "stream",
     "text": [
      "(500, 6)\n"
     ]
    },
    {
     "data": {
      "text/plain": [
       "array([[0., 1., 0., 0., 1., 0.],\n",
       "       [0., 0., 1., 0., 1., 0.],\n",
       "       [0., 1., 0., 0., 0., 1.],\n",
       "       [1., 1., 0., 0., 1., 0.],\n",
       "       [0., 1., 0., 0., 1., 0.],\n",
       "       [0., 0., 1., 0., 1., 0.],\n",
       "       [1., 1., 0., 0., 0., 1.],\n",
       "       [1., 1., 0., 0., 0., 1.],\n",
       "       [0., 0., 1., 0., 1., 0.],\n",
       "       [0., 1., 0., 0., 0., 1.],\n",
       "       [0., 0., 1., 0., 1., 0.],\n",
       "       [0., 1., 0., 0., 1., 0.],\n",
       "       [0., 1., 0., 0., 1., 0.],\n",
       "       [0., 1., 0., 0., 1., 0.],\n",
       "       [1., 1., 0., 0., 1., 0.],\n",
       "       [0., 0., 1., 0., 1., 0.],\n",
       "       [0., 1., 0., 0., 0., 1.],\n",
       "       [1., 1., 0., 0., 0., 0.],\n",
       "       [0., 0., 1., 0., 0., 1.],\n",
       "       [0., 1., 0., 0., 0., 1.]])"
      ]
     },
     "execution_count": 44,
     "metadata": {},
     "output_type": "execute_result"
    }
   ],
   "source": [
    "from sklearn.impute import SimpleImputer\n",
    "from sklearn.preprocessing import OneHotEncoder\n",
    "impute = SimpleImputer(strategy='most_frequent', missing_values=pd.NA)\n",
    "df_tr = impute.fit_transform(fb_df[['Paid', 'Type', 'Category']])\n",
    "ohe = OneHotEncoder(sparse=False, drop='first')\n",
    "output = ohe.fit_transform(df_tr)\n",
    "print(output.shape)\n",
    "output[:20,]"
   ]
  },
  {
   "cell_type": "code",
   "execution_count": 45,
   "id": "c21db42c",
   "metadata": {},
   "outputs": [
    {
     "data": {
      "image/png": "[encoded data removed]",
      "text/plain": [
       "<Figure size 432x288 with 1 Axes>"
      ]
     },
     "metadata": {
      "needs_background": "light"
     },
     "output_type": "display_data"
    }
   ],
   "source": [
    "plt.bar(range(12), fb_df['Post Month'].value_counts(sort=False))\n",
    "months=['Jan', 'Feb', 'Mar', 'Apr', 'May', 'Jun', 'Jul', 'Aug', 'Sep', 'Oct', 'Nov', 'Dec']\n",
    "plt.xticks(ticks=range(12), labels=months, fontsize=13)\n",
    "plt.yticks(fontsize=13)\n",
    "plt.tight_layout();"
   ]
  },
  {
   "cell_type": "code",
   "execution_count": 46,
   "id": "2ad858d6",
   "metadata": {},
   "outputs": [
    {
     "data": {
      "image/png": "[encoded data removed]",
      "text/plain": [
       "<Figure size 432x288 with 1 Axes>"
      ]
     },
     "metadata": {
      "needs_background": "light"
     },
     "output_type": "display_data"
    }
   ],
   "source": [
    "plt.bar(range(7), fb_df['Post Weekday'].value_counts(sort=False))\n",
    "days = ['Sun', 'Mon', 'Tue', 'Wed', 'Thu', 'Fri', 'Sat']\n",
    "plt.xticks(ticks=range(7), labels=days, fontsize=13)\n",
    "plt.yticks(fontsize=13)\n",
    "plt.tight_layout();"
   ]
  },
  {
   "cell_type": "code",
   "execution_count": 47,
   "id": "d49e7dfe",
   "metadata": {},
   "outputs": [
    {
     "data": {
      "image/png": "[encoded data removed]",
      "text/plain": [
       "<Figure size 432x288 with 1 Axes>"
      ]
     },
     "metadata": {
      "needs_background": "light"
     },
     "output_type": "display_data"
    }
   ],
   "source": [
    "plt.bar(range(22), fb_df['Post Hour'].value_counts(sort=False))\n",
    "plt.xticks(fontsize=13)\n",
    "plt.yticks(fontsize=13)\n",
    "plt.tight_layout();"
   ]
  },
  {
   "cell_type": "code",
   "execution_count": 64,
   "id": "9ff8361d",
   "metadata": {},
   "outputs": [],
   "source": [
    "timePivot = pd.pivot_table(fb_df,aggfunc='median', columns='Post Hour',\n",
    "                           index='Post Weekday', values='Like')\n",
    "timePivot = timePivot[range(1, 21)]"
   ]
  },
  {
   "cell_type": "code",
   "execution_count": 65,
   "id": "c28892fa",
   "metadata": {},
   "outputs": [
    {
     "data": {
      "image/png": "[encoded data removed]",
      "text/plain": [
       "<Figure size 1296x720 with 1 Axes>"
      ]
     },
     "metadata": {
      "needs_background": "light"
     },
     "output_type": "display_data"
    }
   ],
   "source": [
    "plt.figure(figsize=(18,10))\n",
    "cmap= sns.cubehelix_palette(8, start=0.75, rot=0.75, as_cmap=True)\n",
    "sns.heatmap(timePivot, cbar=False, cmap=cmap, annot=True, fmt='g')\n",
    "plt.yticks(np.arange(7), ['Sa','F','Th','W','Tu','M','Su'], fontsize=15)\n",
    "plt.xticks(fontsize=15)\n",
    "plt.ylabel('Post Weekay', fontsize=20)\n",
    "plt.xlabel('Post Hour', fontsize=20)\n",
    "plt.title('Median Likes Per Post by Post Weekday and Hour', fontsize=20)\n",
    "plt.savefig('medianLikeHeatmap.png', bbox_inches='tight')"
   ]
  },
  {
   "cell_type": "code",
   "execution_count": null,
   "id": "fa03e02a",
   "metadata": {},
   "outputs": [],
   "source": []
  }
 ],
 "metadata": {
  "kernelspec": {
   "display_name": "Python 3.9.12 ('base')",
   "language": "python",
   "name": "python3"
  },
  "language_info": {
   "codemirror_mode": {
    "name": "ipython",
    "version": 3
   },
   "file_extension": ".py",
   "mimetype": "text/x-python",
   "name": "python",
   "nbconvert_exporter": "python",
   "pygments_lexer": "ipython3",
   "version": "3.9.12"
  },
  "vscode": {
   "interpreter": {
    "hash": "c30f2af5f468e7f5b45bcc30fca5f4886c90d54777aed916ed5f6294dfb24bf2"
   }
  }
 },
 "nbformat": 4,
 "nbformat_minor": 5
}
